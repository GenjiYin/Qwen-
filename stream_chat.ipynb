{
 "cells": [
  {
   "cell_type": "code",
   "execution_count": 1,
   "metadata": {},
   "outputs": [
    {
     "name": "stderr",
     "output_type": "stream",
     "text": [
      "c:\\Users\\96541\\anaconda3\\envs\\DeepLearning\\Lib\\site-packages\\tqdm\\auto.py:21: TqdmWarning: IProgress not found. Please update jupyter and ipywidgets. See https://ipywidgets.readthedocs.io/en/stable/user_install.html\n",
      "  from .autonotebook import tqdm as notebook_tqdm\n"
     ]
    }
   ],
   "source": [
    "from LLM import myLLM\n",
    "import warnings\n",
    "\n",
    "warnings.filterwarnings('ignore')"
   ]
  },
  {
   "cell_type": "code",
   "execution_count": 2,
   "metadata": {},
   "outputs": [],
   "source": [
    "# model_path = r'C:\\Users\\96541\\Desktop\\千问模型大全\\14B'\n",
    "model_path = r'C:\\Users\\96541\\Desktop\\千问模型大全\\Qwen-7B-Chat'"
   ]
  },
  {
   "cell_type": "code",
   "execution_count": 3,
   "metadata": {},
   "outputs": [
    {
     "name": "stderr",
     "output_type": "stream",
     "text": [
      "Exception in thread Thread-4 (_readerthread):\n",
      "Traceback (most recent call last):\n",
      "  File \"c:\\Users\\96541\\anaconda3\\envs\\DeepLearning\\Lib\\threading.py\", line 1052, in _bootstrap_inner\n",
      "    self.run()\n",
      "  File \"c:\\Users\\96541\\anaconda3\\envs\\DeepLearning\\Lib\\site-packages\\ipykernel\\ipkernel.py\", line 766, in run_closure\n",
      "    _threading_Thread_run(self)\n",
      "  File \"c:\\Users\\96541\\anaconda3\\envs\\DeepLearning\\Lib\\threading.py\", line 989, in run\n",
      "    self._target(*self._args, **self._kwargs)\n",
      "  File \"c:\\Users\\96541\\anaconda3\\envs\\DeepLearning\\Lib\\subprocess.py\", line 1597, in _readerthread\n",
      "    buffer.append(fh.read())\n",
      "                  ^^^^^^^^^\n",
      "  File \"<frozen codecs>\", line 322, in decode\n",
      "UnicodeDecodeError: 'utf-8' codec can't decode byte 0xb2 in position 8: invalid start byte\n",
      "The model is automatically converting to bf16 for faster inference. If you want to disable the automatic precision, please manually add bf16/fp16/fp32=True to \"AutoModelForCausalLM.from_pretrained\".\n",
      "Try importing flash-attention for faster inference...\n",
      "Warning: import flash_attn rotary fail, please install FlashAttention rotary to get higher efficiency https://github.com/Dao-AILab/flash-attention/tree/main/csrc/rotary\n",
      "Warning: import flash_attn rms_norm fail, please install FlashAttention layer_norm to get higher efficiency https://github.com/Dao-AILab/flash-attention/tree/main/csrc/layer_norm\n",
      "Warning: import flash_attn fail, please install FlashAttention to get higher efficiency https://github.com/Dao-AILab/flash-attention\n",
      "Loading checkpoint shards: 100%|██████████| 8/8 [00:05<00:00,  1.41it/s]\n"
     ]
    }
   ],
   "source": [
    "model = myLLM(model_path, model_path, website_search=True)"
   ]
  },
  {
   "cell_type": "code",
   "execution_count": 4,
   "metadata": {},
   "outputs": [],
   "source": [
    "model.set_system('你是一个资深的金融分析师')"
   ]
  },
  {
   "cell_type": "code",
   "execution_count": 5,
   "metadata": {},
   "outputs": [
    {
     "name": "stdout",
     "output_type": "stream",
     "text": [
      "搜索网页中......\n",
      "1. 均线是一种重要的技术分析工具，它反映了股票价格的变化趋势。\n",
      "  2. 均线的选择需要根据具体情况进行，常用的有5日、10日、20日、60日、120日、250日等。\n",
      "  3. 当均线出现金叉或死叉信号时，可以作为买入或卖出的依据。\n",
      "  4. 在选股时，可以根据均线形态和变化趋势来判断股票的投资价值。\n",
      "\n"
     ]
    }
   ],
   "source": [
    "data = model.stream_chat('如何用均线系统选股')"
   ]
  },
  {
   "cell_type": "code",
   "execution_count": 6,
   "metadata": {},
   "outputs": [
    {
     "data": {
      "text/plain": [
       "[{'role': 'system', 'content': '你是一个资深的金融分析师'},\n",
       " {'role': 'user',\n",
       "  'content': '你可以参考的资料如下: 资料0:(均线选股的原则、方法与步骤 - 豆丁网)均线最能反映股价的变动趋势，并且用均线选股最直观也最能够被理解和掌握，本文只谈用均线选股的原则，方法与步骤。 文档格式： .doc资料1:(如何用均线组合选股之六线选股法 - 豆丁网)其实也没有那头疼，可以借助均线来辅助你选股，轻松搞定。 在打开软件以后选择一个股票通过设定5日线，l0日线，20日线，60日线，l20日线，250条.. 频道资料2:(均线系统实战参数设置和使用 - 豆丁网)这里顺 便再教给大家一个利用均线系统和成交量指标、MACD指标来扑捉 短线起爆黑马的选股方法：当股价经过一段时间盘整之后，成交量稳 定且较小的情况下，某天MACD的DEA\\\\DIFF黄白两 …资料3:([经济/管理]【均线选股】：如何通过均线选股和选择股票的 ...)沪综指1点的均线主向向下C点突破之后股价回调C点和DA点的均线已经开始转折向上因此股0001日线图显示在B、C两点股价同...资料4:(135均线战法全部选股公式（实用应用文）.doc - 豆丁网)内容摘要：均线战法构成口诀，即13日均线、34日均线、55日均线组合系统的简称，均线战法使用方法口诀，均线战法使用原则口诀，按图索骥勤翻图，守株待兔常受益，重兵出击单打一，快 …资料5:(基于均线与K线指标的量化投资策略 - 汉斯出版社)本文基于均线与K线两个基本的选股指标，构建均线回归策略与K线形态捕捉策略相结合的选股模型：当探测到某支股票的股价低于5日均价的0.95倍，且捕获到所设定的K线为上涨形态时就买入； …资料6:(基于均线与K线指标的量化投资策略-期刊-万方数据知识服务平台)本文基于均线与K线两个基本的选股指标，构建均线回归策略与K线形态捕捉策略相结合的选股模型：当探测到某支股票的股价低于5日均价的0.95倍，且捕获到所设定的K线为上涨形态时就买入； …资料7:(周线均线选股战法 135均线战法全部选股公式及详细介绍 - 豆丁网)该指标选择的买卖点只是组合系统的一部分，该系统有13上买卖点：如底部形态之“红杏出墙”和“蚂蚁上树”；即将拉升的启动形态之“黑客点击”和“红衣侠女”；中途的整理形态之“走四方”和“浪子回 …资料8:(基于AC均线预测的股票交易策略及实证 Stock Trading ...)本文利用均线的特点，结合相似体合成(AC)算法的优势，尝试对股价短期走势和拐点进行预测。 在此基础上，提出一套短期股票投资的智能交易策略。 任选30只股票进行实证说明交易策略的有 …资料9:(均线多头排列超强选股法详解及选股公式（个人经验）送有缘人)均线多头排列超强选股法详解及选股公式（个人经验）送有缘人什么是均线多头排列，多头排列就是说5日线在最上面，其次是10日，再次是30日，以此类推。请结合资料回答我的问题: 如何用均线系统选股'},\n",
       " {'role': 'assistant',\n",
       "  'content': '1. 均线是一种重要的技术分析工具，它反映了股票价格的变化趋势。\\n  2. 均线的选择需要根据具体情况进行，常用的有5日、10日、20日、60日、120日、250日等。\\n  3. 当均线出现金叉或死叉信号时，可以作为买入或卖出的依据。\\n  4. 在选股时，可以根据均线形态和变化趋势来判断股票的投资价值。'}]"
      ]
     },
     "execution_count": 6,
     "metadata": {},
     "output_type": "execute_result"
    }
   ],
   "source": [
    "model.history"
   ]
  },
  {
   "cell_type": "code",
   "execution_count": null,
   "metadata": {},
   "outputs": [],
   "source": []
  }
 ],
 "metadata": {
  "kernelspec": {
   "display_name": "DeepLearning",
   "language": "python",
   "name": "python3"
  },
  "language_info": {
   "codemirror_mode": {
    "name": "ipython",
    "version": 3
   },
   "file_extension": ".py",
   "mimetype": "text/x-python",
   "name": "python",
   "nbconvert_exporter": "python",
   "pygments_lexer": "ipython3",
   "version": "3.12.0"
  }
 },
 "nbformat": 4,
 "nbformat_minor": 2
}
